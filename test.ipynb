{
 "cells": [
  {
   "cell_type": "code",
   "execution_count": 1,
   "metadata": {},
   "outputs": [],
   "source": [
    "import torch\n",
    "import numpy as np\n",
    "from tqdm import tqdm\n",
    "import matplotlib.pyplot as plt\n",
    "import gymnasium as gym"
   ]
  },
  {
   "cell_type": "code",
   "execution_count": 2,
   "metadata": {},
   "outputs": [],
   "source": [
    "from arcle.loaders import ARCLoader, MiniARCLoader"
   ]
  },
  {
   "cell_type": "code",
   "execution_count": 3,
   "metadata": {},
   "outputs": [],
   "source": [
    "from policies.Mark_I_DTPolicy import Mark_I_DTPolicy, Config\n",
    "from envs.NonSparseO2ARCv2Env import NonSparseO2ARCv2Env\n",
    "\n",
    "from utils.preprocessing import Parser, parse_inputs\n",
    "from utils.data import ContextBuffer\n",
    "from utils.config import Config\n",
    "from utils.tracking import EnvironmentCapture, create_animation"
   ]
  },
  {
   "cell_type": "code",
   "execution_count": 4,
   "metadata": {},
   "outputs": [],
   "source": [
    "CONFIG = Config.from_yaml(\"./config/config.yaml\")"
   ]
  },
  {
   "cell_type": "code",
   "execution_count": 5,
   "metadata": {},
   "outputs": [],
   "source": [
    "loader = ARCLoader()"
   ]
  },
  {
   "cell_type": "code",
   "execution_count": 6,
   "metadata": {},
   "outputs": [],
   "source": [
    "model = Mark_I_DTPolicy(CONFIG)\n",
    "model.to(CONFIG.DEVICE)\n",
    "None"
   ]
  },
  {
   "cell_type": "code",
   "execution_count": 12,
   "metadata": {},
   "outputs": [
    {
     "name": "stderr",
     "output_type": "stream",
     "text": [
      "100%|████████████████████████████████████████████████████████████████████████████████████████████████████████████████████████████████████████████████████████████████████████████████████████████████████████████████████████████████| 50/50 [00:18<00:00,  2.67it/s]\n"
     ]
    }
   ],
   "source": [
    "env_capture = EnvironmentCapture()\n",
    "env = NonSparseO2ARCv2Env(CONFIG)\n",
    "\n",
    "obs, info = env.reset(options={'adaptation': True})\n",
    "# env.init_state(initial_grid=obs['input'], options={'adaptation': True})\n",
    "\n",
    "context_buffer = ContextBuffer(CONFIG.BLOCK_SIZE)\n",
    "context = context_buffer.update(parse_inputs(obs['grid'], info['answer'], np.array([0,0,0,0]),CONFIG.NO_OP, 0.0, CONFIG))\n",
    "\n",
    "\n",
    "for i in tqdm(range(50)):\n",
    "\n",
    "    op_logits , bbox = model(*context)\n",
    "    op = op_logits.softmax(dim=-1)[-1,-1,:].argmax()\n",
    "    sel = Parser.parse_bbox(*bbox[-1,-1,:].detach().cpu().numpy())\n",
    "\n",
    "    action = {\n",
    "        'operation': op,\n",
    "        'selection': sel\n",
    "    }\n",
    "    obs, reward, term, trunc, info = env.step(action)\n",
    "\n",
    "\n",
    "    context = context_buffer.update(parse_inputs(obs['grid'], info['answer'], bbox[-1,-1,:].detach().cpu().numpy(),op, reward, CONFIG))\n",
    "\n",
    "    env_capture.add_step(\"state\", obs['grid'])\n",
    "    env_capture.add_step(\"reward\", reward)\n",
    "    env_capture.add_step(\"operation\", int(action['operation'].detach().cpu()))\n",
    "    env_capture.add_step(\"selection\", action['selection'])\n",
    "    # obs, reward, terminated, trunc, info = env.step(action)\n",
    "    if term or trunc:\n",
    "        print('!!!!')\n",
    "        break"
   ]
  },
  {
   "cell_type": "code",
   "execution_count": 16,
   "metadata": {},
   "outputs": [
    {
     "data": {
      "text/plain": [
       "<matplotlib.animation.FuncAnimation at 0x7f06aa5a4350>"
      ]
     },
     "execution_count": 16,
     "metadata": {},
     "output_type": "execute_result"
    },
    {
     "data": {
      "image/png": "[encoded data removed]",
      "text/plain": [
       "<Figure size 640x480 with 1 Axes>"
      ]
     },
     "metadata": {},
     "output_type": "display_data"
    }
   ],
   "source": [
    "create_animation(env_capture.stack()['state'], save_path='./test.mp4', fps=45)\n"
   ]
  },
  {
   "cell_type": "code",
   "execution_count": null,
   "metadata": {},
   "outputs": [
    {
     "name": "stdout",
     "output_type": "stream",
     "text": [
      "FloodFill9\n",
      "FloodFill6\n",
      "Color0\n",
      "Color2\n",
      "FloodFill0\n",
      "FloodFill0\n",
      "FloodFill5\n",
      "resize_grid\n",
      "FloodFill6\n",
      "FloodFill6\n",
      "FloodFill0\n",
      "FloodFill5\n",
      "Move_U\n",
      "FloodFill3\n",
      "FloodFill5\n",
      "FloodFill5\n",
      "FloodFill6\n",
      "FloodFill0\n",
      "FloodFill9\n",
      "FloodFill2\n",
      "Move_U\n",
      "Copy_I\n",
      "FloodFill6\n",
      "FloodFill5\n",
      "FloodFill9\n",
      "FloodFill9\n",
      "FloodFill2\n",
      "FloodFill9\n",
      "Copy_O\n",
      "FloodFill0\n",
      "FloodFill9\n",
      "FloodFill9\n",
      "FloodFill8\n",
      "FloodFill9\n",
      "FloodFill9\n",
      "FloodFill9\n",
      "Move_L\n",
      "Flip_V\n",
      "FloodFill6\n",
      "FloodFill9\n",
      "FloodFill9\n",
      "Color7\n",
      "Move_L\n",
      "FloodFill6\n",
      "FloodFill9\n",
      "FloodFill6\n",
      "FloodFill9\n",
      "Color3\n",
      "FloodFill5\n"
     ]
    }
   ],
   "source": [
    "function_names = [ f.__name__ for f in env.create_operations()]\n",
    "print(\"\\n\".join([function_names[op] for op in env_capture.stack()['operation'][1:]]))"
   ]
  },
  {
   "cell_type": "code",
   "execution_count": null,
   "metadata": {},
   "outputs": [],
   "source": []
  }
 ],
 "metadata": {
  "kernelspec": {
   "display_name": "Python 3 (ipykernel)",
   "language": "python",
   "name": "python3"
  },
  "language_info": {
   "codemirror_mode": {
    "name": "ipython",
    "version": 3
   },
   "file_extension": ".py",
   "mimetype": "text/x-python",
   "name": "python",
   "nbconvert_exporter": "python",
   "pygments_lexer": "ipython3",
   "version": "3.11.2"
  }
 },
 "nbformat": 4,
 "nbformat_minor": 2
}
